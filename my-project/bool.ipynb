{
 "cells": [
  {
   "cell_type": "code",
   "execution_count": 1,
   "metadata": {},
   "outputs": [
    {
     "ename": "NameError",
     "evalue": "name 'true' is not defined",
     "output_type": "error",
     "traceback": [
      "\u001b[1;31m---------------------------------------------------------------------------\u001b[0m",
      "\u001b[1;31mNameError\u001b[0m                                 Traceback (most recent call last)",
      "Cell \u001b[1;32mIn[1], line 2\u001b[0m\n\u001b[0;32m      1\u001b[0m \u001b[38;5;66;03m#boolean\u001b[39;00m\n\u001b[1;32m----> 2\u001b[0m \u001b[38;5;28mprint\u001b[39m(\u001b[38;5;28mtype\u001b[39m(\u001b[43mtrue\u001b[49m))\n\u001b[0;32m      3\u001b[0m \u001b[38;5;28mprint\u001b[39m(\u001b[38;5;28mtype\u001b[39m(\u001b[38;5;28;01mTrue\u001b[39;00m)) \n\u001b[0;32m      4\u001b[0m \u001b[38;5;28mprint\u001b[39m(\u001b[38;5;28mtype\u001b[39m(false))\n",
      "\u001b[1;31mNameError\u001b[0m: name 'true' is not defined"
     ]
    }
   ],
   "source": [
    "#boolean\n",
    "print(type(true))\n",
    "print(type(True)) \n",
    "print(type(false))"
   ]
  },
  {
   "cell_type": "code",
   "execution_count": 2,
   "metadata": {},
   "outputs": [
    {
     "name": "stdout",
     "output_type": "stream",
     "text": [
      "type\n",
      "<class 'str'>\n",
      "False\n",
      "False\n"
     ]
    },
    {
     "ename": "NameError",
     "evalue": "name 'none' is not defined",
     "output_type": "error",
     "traceback": [
      "\u001b[1;31m---------------------------------------------------------------------------\u001b[0m",
      "\u001b[1;31mNameError\u001b[0m                                 Traceback (most recent call last)",
      "Cell \u001b[1;32mIn[2], line 11\u001b[0m\n\u001b[0;32m      8\u001b[0m \u001b[38;5;28mprint\u001b[39m(\u001b[38;5;28mbool\u001b[39m(a\u001b[38;5;241m==\u001b[39mb)) \u001b[38;5;66;03m#false\u001b[39;00m\n\u001b[0;32m      9\u001b[0m \u001b[38;5;28mprint\u001b[39m(a\u001b[38;5;241m==\u001b[39mb)       \u001b[38;5;66;03m#false\u001b[39;00m\n\u001b[1;32m---> 11\u001b[0m a\u001b[38;5;241m=\u001b[39m\u001b[43mnone\u001b[49m\n\u001b[0;32m     12\u001b[0m \u001b[38;5;28mprint\u001b[39m(\u001b[38;5;28mbool\u001b[39m(a))   \u001b[38;5;66;03m#error in bool\u001b[39;00m\n\u001b[0;32m     14\u001b[0m a\u001b[38;5;241m=\u001b[39m()\n",
      "\u001b[1;31mNameError\u001b[0m: name 'none' is not defined"
     ]
    }
   ],
   "source": [
    "#boolean part 2 ture or false.\n",
    "a='type'\n",
    "print(a)\n",
    "print(type(a))\n",
    "\n",
    "a=2\n",
    "b=4\n",
    "print(bool(a==b)) #false\n",
    "print(a==b)       #false\n",
    "\n",
    "a=none\n",
    "print(bool(a))   #error in bool\n",
    "\n",
    "a=()\n",
    "print(bool(a))   #empty boolean \n",
    "\n",
    "a=0.0\n",
    "print(bool(a))  # float error boolean\n",
    "\n",
    "a=10\n",
    "print(bool(a))   #true bool"
   ]
  },
  {
   "cell_type": "code",
   "execution_count": 3,
   "metadata": {},
   "outputs": [
    {
     "name": "stdout",
     "output_type": "stream",
     "text": [
      "True\n",
      "False\n",
      "True\n",
      "False\n"
     ]
    }
   ],
   "source": [
    " #boolean in detail-(copmarision operater)\n",
    "# <\n",
    "# >\n",
    "# ==    \n",
    "# i=\n",
    "# >=\n",
    "# <=\n",
    "#_________________________________________________________\n",
    "\n",
    "x=10\n",
    "print(x<11)\n",
    "print(x>11)\n",
    "print(x<=10)\n",
    "print(x>10)\n",
    "#gerater and less. \n",
    " "
   ]
  },
  {
   "cell_type": "code",
   "execution_count": 5,
   "metadata": {},
   "outputs": [
    {
     "name": "stdout",
     "output_type": "stream",
     "text": [
      "False\n",
      "True\n",
      "<class 'int'>\n"
     ]
    }
   ],
   "source": [
    "#****!=**** not equal.\n",
    "num=10\n",
    "print(num!=10)\n",
    "print(num!=11)\n",
    "print(type(num))"
   ]
  },
  {
   "cell_type": "code",
   "execution_count": 6,
   "metadata": {},
   "outputs": [
    {
     "name": "stdout",
     "output_type": "stream",
     "text": [
      "True\n",
      "False\n",
      "\n",
      " True\n",
      "True\n"
     ]
    }
   ],
   "source": [
    "#>= grater than equal.(bool)\n",
    "X=14\n",
    "print(X>=14)\n",
    "print(X>=15)\n",
    "#________ _ _  ________________________________________\n",
    "#<= less than equal.(bool)\n",
    "a=14\n",
    "print(\"\\n\",a<=14)\n",
    "print(a<=15)"
   ]
  },
  {
   "cell_type": "code",
   "execution_count": 7,
   "metadata": {},
   "outputs": [
    {
     "name": "stdout",
     "output_type": "stream",
     "text": [
      "True\n"
     ]
    }
   ],
   "source": [
    "#boolean in detail-(logical  operater)\n",
    "# 1-and.2-not.3-or.\n",
    "# and\n",
    "age = 22\n",
    "gpa = 3.8\n",
    "result = age >=18 and gpa>3.6\n",
    "print(result)"
   ]
  },
  {
   "cell_type": "code",
   "execution_count": 8,
   "metadata": {},
   "outputs": [
    {
     "name": "stdout",
     "output_type": "stream",
     "text": [
      "True\n"
     ]
    }
   ],
   "source": [
    "#logical or operater.\n",
    "petrol=89\n",
    "desal=78.2\n",
    "rate = petrol <100 or desal<101 #imp line .\n",
    "print(rate)"
   ]
  },
  {
   "cell_type": "code",
   "execution_count": 9,
   "metadata": {},
   "outputs": [
    {
     "ename": "SyntaxError",
     "evalue": "invalid syntax (164009140.py, line 5)",
     "output_type": "error",
     "traceback": [
      "\u001b[1;36m  Cell \u001b[1;32mIn[9], line 5\u001b[1;36m\u001b[0m\n\u001b[1;33m    num= 354 not add\u001b[0m\n\u001b[1;37m                 ^\u001b[0m\n\u001b[1;31mSyntaxError\u001b[0m\u001b[1;31m:\u001b[0m invalid syntax\n"
     ]
    }
   ],
   "source": [
    "#logical not operater\n",
    "#part 1\n",
    "add=353\n",
    "b=343\n",
    "num= 354 not add\n",
    "print(num)"
   ]
  },
  {
   "cell_type": "code",
   "execution_count": 10,
   "metadata": {},
   "outputs": [
    {
     "ename": "NameError",
     "evalue": "name 'false' is not defined",
     "output_type": "error",
     "traceback": [
      "\u001b[1;31m---------------------------------------------------------------------------\u001b[0m",
      "\u001b[1;31mNameError\u001b[0m                                 Traceback (most recent call last)",
      "Cell \u001b[1;32mIn[10], line 2\u001b[0m\n\u001b[0;32m      1\u001b[0m \u001b[38;5;66;03m#boolean errors\u001b[39;00m\n\u001b[1;32m----> 2\u001b[0m \u001b[38;5;28mbool\u001b[39m(\u001b[43mfalse\u001b[49m)\n\u001b[0;32m      3\u001b[0m \u001b[38;5;28mbool\u001b[39m(none)\n\u001b[0;32m      4\u001b[0m \u001b[38;5;28mbool\u001b[39m(\u001b[38;5;241m0\u001b[39m)\n",
      "\u001b[1;31mNameError\u001b[0m: name 'false' is not defined"
     ]
    }
   ],
   "source": [
    "#boolean errors\n",
    "bool(false)\n",
    "bool(none)\n",
    "bool(0)\n",
    "bool(())\n",
    "bool(\"\")\n",
    "([])\n",
    "bool({})"
   ]
  },
  {
   "cell_type": "code",
   "execution_count": 11,
   "metadata": {},
   "outputs": [
    {
     "name": "stdout",
     "output_type": "stream",
     "text": [
      "true\n",
      "atlist one number has  boolean value as true\n"
     ]
    }
   ],
   "source": [
    "# create program ****or***** opreater using if else .\n",
    "a=1\n",
    "b=2\n",
    "c=4\n",
    "if a>b or b<c:\n",
    "    print('true')\n",
    "else:\n",
    "    print('false')\n",
    "if a or b or c:\n",
    "    print(\"atlist one number has  boolean value as true\")\n",
    "    "
   ]
  },
  {
   "cell_type": "code",
   "execution_count": null,
   "metadata": {},
   "outputs": [],
   "source": []
  }
 ],
 "metadata": {
  "kernelspec": {
   "display_name": "Python 3",
   "language": "python",
   "name": "python3"
  },
  "language_info": {
   "codemirror_mode": {
    "name": "ipython",
    "version": 3
   },
   "file_extension": ".py",
   "mimetype": "text/x-python",
   "name": "python",
   "nbconvert_exporter": "python",
   "pygments_lexer": "ipython3",
   "version": "3.11.4"
  }
 },
 "nbformat": 4,
 "nbformat_minor": 2
}
