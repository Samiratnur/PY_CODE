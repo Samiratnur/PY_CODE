{
 "cells": [
  {
   "cell_type": "code",
   "execution_count": 1,
   "metadata": {},
   "outputs": [
    {
     "name": "stdout",
     "output_type": "stream",
     "text": [
      "samir atnur\n",
      "s\n",
      "mir\n",
      "a\n",
      "samir atnursamir atnur\n",
      "samir atnurTEST\n",
      "samir atnur  edfssfef\n"
     ]
    }
   ],
   "source": [
    "#string hold sequence of caracter \n",
    "str=\"samir atnur\"\n",
    "d='edfssfef'\n",
    "print(str)\n",
    "print(str[0])\n",
    "print(str[2:5])\n",
    "print(str[6])\n",
    "print(str*2)\n",
    "print(str+\"TEST\")\n",
    "print(str+\"  \"+d)\n",
    "\n"
   ]
  }
 ],
 "metadata": {
  "kernelspec": {
   "display_name": "Python 3",
   "language": "python",
   "name": "python3"
  },
  "language_info": {
   "codemirror_mode": {
    "name": "ipython",
    "version": 3
   },
   "file_extension": ".py",
   "mimetype": "text/x-python",
   "name": "python",
   "nbconvert_exporter": "python",
   "pygments_lexer": "ipython3",
   "version": "3.11.4"
  }
 },
 "nbformat": 4,
 "nbformat_minor": 2
}
