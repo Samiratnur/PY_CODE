{
 "cells": [
  {
   "cell_type": "code",
   "execution_count": 1,
   "metadata": {},
   "outputs": [
    {
     "name": "stdout",
     "output_type": "stream",
     "text": [
      "Intial blank set:\n",
      "set()\n"
     ]
    }
   ],
   "source": [
    "#set blanck set \n",
    "#part01\n",
    "set1=set()\n",
    "print(\"Intial blank set:\")\n",
    "print(set1)"
   ]
  },
  {
   "cell_type": "code",
   "execution_count": 2,
   "metadata": {},
   "outputs": [
    {
     "name": "stdout",
     "output_type": "stream",
     "text": [
      "\n",
      " set with the use of string:\n",
      "{'k', 'r', 'G', 'e', 'F', 'o', 's'}\n",
      "\n",
      " set with the use of string:\n",
      "{'a', 'y', 'u', 'j', 'r', 'm', 'e', 's', '_'}\n"
     ]
    }
   ],
   "source": [
    "#part 2\n",
    "set1=set(\"GeeksForGeeks\")#set me string value repete nahi hoti 1st time he print hoti hai.\n",
    "print(\"\\n set with the use of string:\")\n",
    "print(set1)\n",
    "#____________________________________________________________________________________________________\n",
    "set1=set(\"sameer_mayuur_raaju\")#set me string value repete nahi hoti 1st time he print hoti hai.\n",
    "print(\"\\n set with the use of string:\")\n",
    "print(set1)\n"
   ]
  },
  {
   "cell_type": "code",
   "execution_count": 3,
   "metadata": {},
   "outputs": [
    {
     "name": "stdout",
     "output_type": "stream",
     "text": [
      "\n",
      " set with the use of list:\n",
      "{'for', 'Geeks'}\n",
      "<class 'set'>\n"
     ]
    }
   ],
   "source": [
    "#part3 \n",
    "set1=set([\"Geeks\",\"for\",\"Geeks\"])#same thing string&set me hotihai 1st time he print hoti hai value repite nahi hoti.\n",
    "print(\"\\n set with the use of list:\")\n",
    "print(set1)\n",
    "print(type(set1))"
   ]
  },
  {
   "cell_type": "code",
   "execution_count": 4,
   "metadata": {},
   "outputs": [
    {
     "name": "stdout",
     "output_type": "stream",
     "text": [
      "\n",
      " set with the use of mixed values:\n",
      "{1, 2, 'for', 4, 6, 'Geeks', 'geeks'}\n",
      "<class 'set'>\n"
     ]
    }
   ],
   "source": [
    "#part4\n",
    "set1=set([1,2,'geeks',4,'for',6,\"Geeks\"])#integer&string value mixed in (list()) datatype\n",
    "print(\"\\n set with the use of mixed values:\")\n",
    "print(set1)\n",
    "print(type(set1))"
   ]
  },
  {
   "cell_type": "code",
   "execution_count": 5,
   "metadata": {},
   "outputs": [
    {
     "name": "stdout",
     "output_type": "stream",
     "text": [
      "{112, 34, 343, 43245, 442, 4333}\n",
      "<class 'set'>\n"
     ]
    }
   ],
   "source": [
    "#set hold colection of unique itams. \n",
    "#part5\n",
    "student_id={112,34,43245,343,442,4333,}#set hold colection mahanje digit che collection karane Ex-{112,34,43245,343,442,4333,}.\n",
    "print(student_id)\n",
    "print(type(student_id))"
   ]
  },
  {
   "cell_type": "code",
   "execution_count": 6,
   "metadata": {},
   "outputs": [
    {
     "name": "stdout",
     "output_type": "stream",
     "text": [
      "{'python', 2, 3, 'james'}\n",
      "{2, 3, 'python', 10, 'james'}\n",
      "{3, 'python', 10, 'james'}\n"
     ]
    }
   ],
   "source": [
    "#remove&add in (set()) datatype\n",
    "set1=set()\n",
    "set2={'james',2,3,'python'}\n",
    "print(set2)#{2, 3, 'python', 'james'}\n",
    "set2.add(10)#{2, 3, 10, 'python', 'james'}\n",
    "print(set2)\n",
    "set2.remove(2)#{3, 10, 'python', 'james'}\n",
    "print(set2)\n",
    "\n",
    "\n"
   ]
  }
 ],
 "metadata": {
  "kernelspec": {
   "display_name": "Python 3",
   "language": "python",
   "name": "python3"
  },
  "language_info": {
   "codemirror_mode": {
    "name": "ipython",
    "version": 3
   },
   "file_extension": ".py",
   "mimetype": "text/x-python",
   "name": "python",
   "nbconvert_exporter": "python",
   "pygments_lexer": "ipython3",
   "version": "3.11.4"
  }
 },
 "nbformat": 4,
 "nbformat_minor": 2
}
