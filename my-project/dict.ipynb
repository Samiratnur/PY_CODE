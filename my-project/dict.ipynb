{
 "cells": [
  {
   "cell_type": "markdown",
   "metadata": {},
   "source": []
  },
  {
   "cell_type": "code",
   "execution_count": 1,
   "metadata": {},
   "outputs": [
    {
     "name": "stdout",
     "output_type": "stream",
     "text": [
      "{'name': 'samir', 'last_name': 'atnur'}\n",
      "{'name': 'samir', 'last_name': 'atnur'}\n"
     ]
    }
   ],
   "source": [
    "#mapping dictionary ****dict****\n",
    "x={'name':\"samir\",'last_name':\"atnur\",}\n",
    "for i in x:\n",
    "    print(x)"
   ]
  },
  {
   "cell_type": "code",
   "execution_count": 3,
   "metadata": {},
   "outputs": [
    {
     "name": "stdout",
     "output_type": "stream",
     "text": [
      "{'name': 'samir', 'last_name': 'atnur'}\n"
     ]
    }
   ],
   "source": [
    "x={'name':\"samir\",'last_name':\"atnur\",}\n",
    "print(x)"
   ]
  },
  {
   "cell_type": "code",
   "execution_count": 6,
   "metadata": {},
   "outputs": [
    {
     "name": "stdout",
     "output_type": "stream",
     "text": [
      "dict_values(['sam', 'maya', 'shubhu', 'dua'])\n",
      "dict_keys(['1', '2', '3', '4'])\n",
      "\n",
      " dict_values(['23', '20', '24', '26'])\n",
      "dict_keys(['1', '2', '3', '4'])\n"
     ]
    }
   ],
   "source": [
    "#part 2\n",
    "name={'1':'sam','2':'maya','3':'shubhu','4':'dua',}\n",
    "age={'1':'23','2':'20','3':'24','4':'26'}\n",
    "print(name.values())\n",
    "print(name.keys())\n",
    "\n",
    "print(\"\\n\",age.values())\n",
    "print(age.keys())"
   ]
  },
  {
   "cell_type": "code",
   "execution_count": 7,
   "metadata": {},
   "outputs": [
    {
     "name": "stdout",
     "output_type": "stream",
     "text": [
      "1st name isrohan\n",
      "2nd name isbandu\n",
      "{1: 'rohan', 2: 'bandu', 3: 'abhi', 4: 'maya'}\n",
      "dict_keys([1, 2, 3, 4])\n",
      "dict_values(['rohan', 'bandu', 'abhi', 'maya'])\n"
     ]
    }
   ],
   "source": [
    "#part 3\n",
    "n={1:\"rohan\",2:\"bandu\",3:\"abhi\",4:\"maya\"}\n",
    "print(\"1st name is\"+n[1])\n",
    "print(\"2nd name is\"+n[2])\n",
    "print(n)\n",
    "print(n.keys())\n",
    "print(n.values())"
   ]
  },
  {
   "cell_type": "code",
   "execution_count": 8,
   "metadata": {},
   "outputs": [
    {
     "name": "stdout",
     "output_type": "stream",
     "text": [
      "rohan\n"
     ]
    }
   ],
   "source": [
    "n={1:\"rohan\",2:\"bandu\",3:\"abhi\",4:\"maya\"}\n",
    "print((n)[1])\n"
   ]
  },
  {
   "cell_type": "code",
   "execution_count": 9,
   "metadata": {},
   "outputs": [
    {
     "name": "stdout",
     "output_type": "stream",
     "text": [
      "{1: 'sam', 2: 'ravi', 3: 'kavi', 4: 'cad'}\n",
      "1st no is: a\n",
      "2nd no is: r\n",
      "<class 'dict'>\n"
     ]
    }
   ],
   "source": [
    "#part 4 i made this casual program.\n",
    "var={1:'sam',2:'ravi',3:'kavi',4:'cad'}\n",
    "print(var)\n",
    "print('1st no is'\": \"+'var'[1])\n",
    "print('2nd no is'\": \"+'var'[2])\n",
    "print(type(var))"
   ]
  }
 ],
 "metadata": {
  "kernelspec": {
   "display_name": "Python 3",
   "language": "python",
   "name": "python3"
  },
  "language_info": {
   "codemirror_mode": {
    "name": "ipython",
    "version": 3
   },
   "file_extension": ".py",
   "mimetype": "text/x-python",
   "name": "python",
   "nbconvert_exporter": "python",
   "pygments_lexer": "ipython3",
   "version": "3.11.4"
  }
 },
 "nbformat": 4,
 "nbformat_minor": 2
}
