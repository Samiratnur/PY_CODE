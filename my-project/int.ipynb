{
 "cells": [
  {
   "cell_type": "code",
   "execution_count": 2,
   "metadata": {},
   "outputs": [
    {
     "name": "stdout",
     "output_type": "stream",
     "text": [
      "sam manuj rakes kundan raavi 11 234 3443 "
     ]
    }
   ],
   "source": [
    "ist=[\"sam\",\"manuj\",\"rakes\",\"kundan\",\"raavi\",11,234,3443,]\n",
    "for i in range(len(ist)):\n",
    "    print(ist[i],end=\" \")"
   ]
  },
  {
   "cell_type": "code",
   "execution_count": 1,
   "metadata": {},
   "outputs": [
    {
     "name": "stdout",
     "output_type": "stream",
     "text": [
      "sami\n"
     ]
    }
   ],
   "source": [
    "a=\"sami\"\n",
    "print"
   ]
  },
  {
   "cell_type": "code",
   "execution_count": 1,
   "metadata": {},
   "outputs": [
    {
     "name": "stdout",
     "output_type": "stream",
     "text": [
      "False\n",
      "True\n",
      "<class 'int'>\n"
     ]
    }
   ],
   "source": [
    "#****!=**** not equal.\n",
    "num=10\n",
    "print(num!=10)\n",
    "print(num!=11)\n",
    "print(type(num))"
   ]
  }
 ],
 "metadata": {
  "kernelspec": {
   "display_name": "Python 3",
   "language": "python",
   "name": "python3"
  },
  "language_info": {
   "codemirror_mode": {
    "name": "ipython",
    "version": 3
   },
   "file_extension": ".py",
   "mimetype": "text/x-python",
   "name": "python",
   "nbconvert_exporter": "python",
   "pygments_lexer": "ipython3",
   "version": "3.11.4"
  }
 },
 "nbformat": 4,
 "nbformat_minor": 2
}
