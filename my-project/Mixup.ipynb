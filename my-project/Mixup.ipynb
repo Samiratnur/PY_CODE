{
 "cells": [
  {
   "cell_type": "code",
   "execution_count": null,
   "metadata": {},
   "outputs": [],
   "source": []
  },
  {
   "cell_type": "code",
   "execution_count": 2,
   "metadata": {},
   "outputs": [
    {
     "name": "stdout",
     "output_type": "stream",
     "text": [
      "['xyz']\n",
      "{}\n",
      "('hello', 'World')\n",
      "<class 'tuple'>\n",
      "<class 'list'>\n",
      "<class 'dict'>\n"
     ]
    }
   ],
   "source": [
    "#part3 3data type in one programe\n",
    "dict=\"hello\",\"World\"\n",
    "mas=['xyz']\n",
    "miss={ }\n",
    "print(mas)\n",
    "print(miss)\n",
    "print(dict)\n",
    "print(type(dict))\n",
    "print(type(mas))    \n",
    "print(type(miss)) "
   ]
  },
  {
   "cell_type": "code",
   "execution_count": 3,
   "metadata": {},
   "outputs": [
    {
     "name": "stdout",
     "output_type": "stream",
     "text": [
      "True\n",
      "<class 'int'>\n",
      "True\n",
      "<class 'float'>\n",
      "False\n",
      "<class 'str'>\n"
     ]
    }
   ],
   "source": [
    "num=10\n",
    "print(num == 10)#  puting int values in bool& eqal coprarision opreater.\n",
    "print(type(num))\n",
    "\n",
    "\n",
    "numb=10.0\n",
    "print(numb == 10.0)#puting float values in bool& eqal coprarision opreater.\n",
    "print(type(numb))\n",
    "\n",
    "\n",
    "numbe='10'\n",
    "print(numbe == 10)#puting string values in bool& eqal coprarision opreater.\n",
    "print(type(numbe))"
   ]
  },
  {
   "cell_type": "code",
   "execution_count": 4,
   "metadata": {},
   "outputs": [
    {
     "name": "stdout",
     "output_type": "stream",
     "text": [
      "not 0: True\n",
      "not 42:  False\n",
      "not 0.0:  True\n",
      "not 24.0:  False\n",
      "not 0 + 0j:  True\n",
      "not 24 + 1j:  False\n",
      "not '':  True\n",
      "not 'Hello':  False\n",
      "not []:  True\n",
      "not [1, 4, 6]:  False\n",
      "not {}:  True\n",
      "not {'a': 1, 'b': 2}:  False\n"
     ]
    }
   ],
   "source": [
    "#part 2\n",
    "# Python program to show that not operator can be used with all the Python data types  \n",
    "  \n",
    "# Using the operator with integer values  \n",
    "print(\"not 0:\", not 0)  \n",
    "print(\"not 42: \", not 42)  \n",
    "  \n",
    "# Using the operator with float values  \n",
    "print(\"not 0.0: \", not 0.0)  \n",
    "print(\"not 24.0: \", not 24.0)  \n",
    "  \n",
    "# Using the operator with complex values  \n",
    "print(\"not 0 + 0j: \", not complex(0, 0))  \n",
    "print(\"not 24 + 1j: \", not complex(42, 1))  \n",
    "  \n",
    "# Using the operator with string variables  \n",
    "print(\"not '': \", not \"\")  \n",
    "print(\"not 'Hello': \", not \"Hello\")  \n",
    "  \n",
    "# Using the operator with list objects  \n",
    "print(\"not []: \", not [])  \n",
    "print(\"not [1, 4, 6]: \", not [1, 4, 6])  \n",
    "  \n",
    "# Using the operator with dictionary objects  \n",
    "print(\"not {}: \", not {})  \n",
    "print(\"not {'a': 1, 'b': 2}: \", not {'a': 1, 'b': 2})"
   ]
  },
  {
   "cell_type": "code",
   "execution_count": null,
   "metadata": {},
   "outputs": [],
   "source": []
  }
 ],
 "metadata": {
  "kernelspec": {
   "display_name": "Python 3",
   "language": "python",
   "name": "python3"
  },
  "language_info": {
   "codemirror_mode": {
    "name": "ipython",
    "version": 3
   },
   "file_extension": ".py",
   "mimetype": "text/x-python",
   "name": "python",
   "nbconvert_exporter": "python",
   "pygments_lexer": "ipython3",
   "version": "3.11.4"
  }
 },
 "nbformat": 4,
 "nbformat_minor": 2
}
